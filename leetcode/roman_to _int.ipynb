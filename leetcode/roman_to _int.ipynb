{
 "cells": [
  {
   "cell_type": "code",
   "execution_count": 23,
   "metadata": {},
   "outputs": [
    {
     "name": "stdout",
     "output_type": "stream",
     "text": [
      "[5, 10, 1]\n"
     ]
    }
   ],
   "source": [
    "def romanToInt(s):\n",
    "    \"\"\"\n",
    "    :type s: str\n",
    "    :rtype: int\n",
    "    \"\"\"\n",
    "    s = s.upper()\n",
    "    val_dict = {\n",
    "        'I':1,\n",
    "        'V':5,\n",
    "        'X':10,\n",
    "        'L':50,\n",
    "        'C':100,\n",
    "        'D':500,\n",
    "        'M':1000\n",
    "    }\n",
    "    roman_list = list(s)\n",
    "    num_list = [int(val_dict[val]) for val in roman_list]\n",
    "    num = 1\n",
    "    for count in range(len(num_list)):\n",
    "        if count + 1 == len(num_list)-1:\n",
    "            if num_list[count] > num_list[count + 1]:\n",
    "                continue\n",
    "            elif num_list[count] < num_list[count + 1]:\n",
    "                num = num_list.pop(count + 1) - num_list.pop(count)\n",
    "                num_list.insert(count,num)\n",
    "    print(num_list)\n",
    "\n",
    "\n",
    "romanToInt('VxI')"
   ]
  },
  {
   "cell_type": "code",
   "execution_count": null,
   "metadata": {},
   "outputs": [],
   "source": []
  }
 ],
 "metadata": {
  "kernelspec": {
   "display_name": "Python 3",
   "language": "python",
   "name": "python3"
  },
  "language_info": {
   "codemirror_mode": {
    "name": "ipython",
    "version": 3
   },
   "file_extension": ".py",
   "mimetype": "text/x-python",
   "name": "python",
   "nbconvert_exporter": "python",
   "pygments_lexer": "ipython3",
   "version": "3.13.0"
  }
 },
 "nbformat": 4,
 "nbformat_minor": 2
}
